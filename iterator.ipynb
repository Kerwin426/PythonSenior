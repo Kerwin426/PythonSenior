{
 "cells": [
  {
   "cell_type": "code",
   "execution_count": null,
   "metadata": {},
   "outputs": [],
   "source": [
    "# 从可迭代对象中获取迭代器"
   ]
  },
  {
   "cell_type": "markdown",
   "metadata": {},
   "source": [
    "![./for_iterables.png](./for_iterables.png)"
   ]
  },
  {
   "cell_type": "code",
   "execution_count": null,
   "metadata": {},
   "outputs": [],
   "source": [
    "my_str = '123'\n",
    "#生成器和迭代器都可以显著避免将所有文件直接读取到内存中的操作(下图)，\n",
    "#显著减少内存占用\n",
    "#迭代器要包含__iter__()和__next__()两个魔法方法，充分必要"
   ]
  },
  {
   "cell_type": "markdown",
   "metadata": {},
   "source": [
    "![](./tracemalloc.png)"
   ]
  },
  {
   "cell_type": "code",
   "execution_count": 1,
   "metadata": {},
   "outputs": [],
   "source": [
    "#生成器是可以理解为迭代器的简单实现，因为会自动生成上述两个方法\n",
    "def generator(n):\n",
    "    for i in range(n):\n",
    "        print('before yield')\n",
    "        yield i\n",
    "        print('after yield')\n",
    "# yield 从该行退出，迭代器调用next下次会从yield这行进入\n",
    "gen = generator(3)"
   ]
  },
  {
   "cell_type": "code",
   "execution_count": 2,
   "metadata": {},
   "outputs": [
    {
     "name": "stdout",
     "output_type": "stream",
     "text": [
      "before yield\n",
      "0\n",
      "---\n",
      "after yield\n",
      "before yield\n",
      "1\n",
      "after yield\n",
      "before yield\n",
      "2\n",
      "after yield\n"
     ]
    }
   ],
   "source": [
    "print(next(gen))\n",
    "print('---')\n",
    "for i in gen:\n",
    "    print(i)"
   ]
  },
  {
   "cell_type": "code",
   "execution_count": 7,
   "metadata": {},
   "outputs": [
    {
     "name": "stdout",
     "output_type": "stream",
     "text": [
      "3\n",
      "6\n",
      "9\n",
      "12\n"
     ]
    }
   ],
   "source": [
    "#生成器来实现3乘法\n",
    "def multiplcation_generator(x):\n",
    "    cur = 1\n",
    "    while True:\n",
    "        yield x*cur\n",
    "        cur = cur+1\n",
    "\n",
    "multi_gen = multiplcation_generator(3)\n",
    "print(next(multi_gen))\n",
    "print(next(multi_gen))\n",
    "print(next(multi_gen))\n",
    "print(next(multi_gen))\n"
   ]
  },
  {
   "cell_type": "code",
   "execution_count": 14,
   "metadata": {},
   "outputs": [
    {
     "name": "stdout",
     "output_type": "stream",
     "text": [
      "1*3=3\n",
      "2*3=6\n",
      "3*3=9\n",
      "4*3=12\n"
     ]
    }
   ],
   "source": [
    "# 迭代器实现3乘法\n",
    "class mul_generator():\n",
    "    def __init__(self, x):\n",
    "        self.x = x\n",
    "        self.cur = 0\n",
    "\n",
    "    def __iter__(self):\n",
    "        return self\n",
    "\n",
    "    def __next__(self):\n",
    "        self.cur += 1\n",
    "        return f'{self.cur}*{self.x}={self.x*self.cur}'\n",
    "    \n",
    "multi_iter = mul_generator(3)\n",
    "print(next(multi_iter))\n",
    "print(next(multi_iter))\n",
    "print(next(multi_iter))\n",
    "print(next(multi_iter))"
   ]
  }
 ],
 "metadata": {
  "kernelspec": {
   "display_name": "torch",
   "language": "python",
   "name": "python3"
  },
  "language_info": {
   "codemirror_mode": {
    "name": "ipython",
    "version": 3
   },
   "file_extension": ".py",
   "mimetype": "text/x-python",
   "name": "python",
   "nbconvert_exporter": "python",
   "pygments_lexer": "ipython3",
   "version": "3.10.13"
  }
 },
 "nbformat": 4,
 "nbformat_minor": 2
}
