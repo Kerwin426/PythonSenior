{
 "cells": [
  {
   "cell_type": "markdown",
   "metadata": {},
   "source": [
    "# <font color ='orange'>装饰器</font>"
   ]
  },
  {
   "cell_type": "code",
   "execution_count": null,
   "metadata": {},
   "outputs": [],
   "source": [
    "#在不改动函数源码的情况下，动态调整函数的功能"
   ]
  },
  {
   "cell_type": "code",
   "execution_count": 2,
   "metadata": {},
   "outputs": [
    {
     "name": "stdout",
     "output_type": "stream",
     "text": [
      "square is running\n",
      "4\n"
     ]
    }
   ],
   "source": [
    "def square(x):\n",
    "    return x*x\n",
    "\n",
    "def print_running(f,x):\n",
    "    print(f'{f.__name__} is running')\n",
    "    return f(x)\n",
    "\n",
    "result = print_running(square,2)\n",
    "print(result)\n",
    "#在python中，可以将函数传递到函数中"
   ]
  },
  {
   "cell_type": "code",
   "execution_count": 4,
   "metadata": {},
   "outputs": [],
   "source": [
    "import time\n",
    "\n",
    "\n",
    "\n",
    "#其实装饰器就是输入一个函数，然后对这个函数进行改造，以另一个函数进行返回\n",
    "def decorator(func):\n",
    "    def wrapper(*args,**kwargs):\n",
    "        print(f'{func.__name__} is running')\n",
    "        start_time = time.time()\n",
    "        result = func(*args,**kwargs)\n",
    "        end_time =time.time()\n",
    "        print(f'{func.__name__} excution time is {end_time-start_time}')\n",
    "        return  result\n",
    "        \n",
    "    return wrapper"
   ]
  },
  {
   "cell_type": "code",
   "execution_count": 5,
   "metadata": {},
   "outputs": [
    {
     "name": "stdout",
     "output_type": "stream",
     "text": [
      "square is running\n",
      "square excution time is 0.0\n"
     ]
    },
    {
     "data": {
      "text/plain": [
       "100"
      ]
     },
     "execution_count": 5,
     "metadata": {},
     "output_type": "execute_result"
    }
   ],
   "source": [
    "decorator_square = decorator(square)\n",
    "decorator_square(10)"
   ]
  },
  {
   "cell_type": "code",
   "execution_count": 6,
   "metadata": {},
   "outputs": [
    {
     "name": "stdout",
     "output_type": "stream",
     "text": [
      "square is running\n",
      "square excution time is 0.0\n"
     ]
    },
    {
     "data": {
      "text/plain": [
       "100"
      ]
     },
     "execution_count": 6,
     "metadata": {},
     "output_type": "execute_result"
    }
   ],
   "source": [
    "#哪怕是同名，装饰器也是会识别到的\n",
    "square = decorator(square)\n",
    "square(10)"
   ]
  },
  {
   "cell_type": "code",
   "execution_count": 7,
   "metadata": {},
   "outputs": [
    {
     "name": "stdout",
     "output_type": "stream",
     "text": [
      "square is running\n",
      "square excution time is 0.0\n"
     ]
    },
    {
     "data": {
      "text/plain": [
       "100"
      ]
     },
     "execution_count": 7,
     "metadata": {},
     "output_type": "execute_result"
    }
   ],
   "source": [
    "#可以用类似于java的语法进行注释\n",
    "@decorator\n",
    "def square(x):\n",
    "    return x*x\n",
    "\n",
    "square(10)"
   ]
  },
  {
   "cell_type": "code",
   "execution_count": 15,
   "metadata": {},
   "outputs": [],
   "source": [
    "#对于不同的函数使用不同的装饰器\n",
    "import functools\n",
    "def timer(threshold):\n",
    "    def decorator(func):\n",
    "        @functools.wraps(func)\n",
    "        def wrapper(*args,**kwargs):\n",
    "            start_time = time.time()\n",
    "            result = func(*args,**kwargs)\n",
    "            end_time = time.time()\n",
    "            if (end_time-start_time>threshold):\n",
    "                print(f'{func.__name__} took longer than {threshold}')\n",
    "            return result\n",
    "        return wrapper\n",
    "    return decorator\n",
    "\n",
    "#上面的func是sleep_04\n",
    "#由于sleep_04没有参数，所以*args **kwargs都是没有的"
   ]
  },
  {
   "cell_type": "code",
   "execution_count": 16,
   "metadata": {},
   "outputs": [
    {
     "name": "stdout",
     "output_type": "stream",
     "text": [
      "sleep_04 took longer than 0.2\n"
     ]
    }
   ],
   "source": [
    "@timer(0.2)\n",
    "def sleep_04():\n",
    "    time.sleep(0.4)\n",
    "\n",
    "sleep_04()"
   ]
  },
  {
   "cell_type": "code",
   "execution_count": 17,
   "metadata": {},
   "outputs": [
    {
     "data": {
      "text/plain": [
       "'sleep_04'"
      ]
     },
     "execution_count": 17,
     "metadata": {},
     "output_type": "execute_result"
    }
   ],
   "source": [
    "sleep_04.__name__\n",
    "#如果没有上面的functools，打印会显示wrapper ，理由是装饰器其实是用另一个函数表示\n",
    "#输入的函数，默认的是自己定义的wrapper ，如果想要用输入的函数名字，\n",
    "#就要用functools.wraps(func)"
   ]
  },
  {
   "cell_type": "markdown",
   "metadata": {},
   "source": [
    "### 装饰器可以提高代码的复用，保证函数的逻辑清晰，可以扩展别人的函数"
   ]
  }
 ],
 "metadata": {
  "kernelspec": {
   "display_name": "torch",
   "language": "python",
   "name": "python3"
  },
  "language_info": {
   "codemirror_mode": {
    "name": "ipython",
    "version": 3
   },
   "file_extension": ".py",
   "mimetype": "text/x-python",
   "name": "python",
   "nbconvert_exporter": "python",
   "pygments_lexer": "ipython3",
   "version": "3.10.13"
  }
 },
 "nbformat": 4,
 "nbformat_minor": 2
}
