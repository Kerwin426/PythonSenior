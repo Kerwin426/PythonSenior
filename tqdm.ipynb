{
 "cells": [
  {
   "cell_type": "markdown",
   "metadata": {},
   "source": [
    "# <font color = \"orange\">tqdm进度条的学习</font>\n",
    "#### vscode Ctrl + = 放大 Ctrl + -缩小"
   ]
  },
  {
   "cell_type": "code",
   "execution_count": null,
   "metadata": {},
   "outputs": [],
   "source": [
    "from time import sleep\n",
    "from tqdm import tqdm\n",
    "from tqdm.rich import tqdm_rich\n",
    "for _ in tqdm_rich(range(1000),desc='desc参数出现在这里'):\n",
    "    sleep(0.00001)\n",
    "# tqdm也可以对可迭代对象进行进度条显示"
   ]
  },
  {
   "cell_type": "code",
   "execution_count": null,
   "metadata": {},
   "outputs": [],
   "source": [
    "from tqdm import trange\n",
    "\n",
    "for _ in trange(1000):\n",
    "    sleep(0.001)"
   ]
  },
  {
   "cell_type": "code",
   "execution_count": null,
   "metadata": {},
   "outputs": [],
   "source": [
    "from time import sleep\n",
    "from tqdm import tqdm\n",
    "from rich.progress import track\n",
    "\n",
    "\n",
    "for i in track(range(20),description='Processing'):\n",
    "    sleep(0.001)"
   ]
  },
  {
   "cell_type": "code",
   "execution_count": null,
   "metadata": {},
   "outputs": [],
   "source": [
    "#rich其实就是加强版的tqdm\n",
    "import time\n",
    "\n",
    "from rich.progress import Progress\n",
    "\n",
    "with Progress() as progress:\n",
    "\n",
    "    task1 = progress.add_task(\"[red]Downloading...\", total=1000)\n",
    "    task2 = progress.add_task(\"[green]Processing...\", total=1000)\n",
    "    task3 = progress.add_task(\"[cyan]Cooking...\", total=1000)\n",
    "\n",
    "    while not progress.finished:\n",
    "        progress.update(task1, advance=0.5)\n",
    "        progress.update(task2, advance=0.3)\n",
    "        progress.update(task3, advance=0.9)\n",
    "        time.sleep(0.02)"
   ]
  },
  {
   "cell_type": "code",
   "execution_count": null,
   "metadata": {},
   "outputs": [],
   "source": [
    "from time import sleep\n",
    "from tqdm import tqdm\n",
    "from rich.progress import track\n",
    "def my_generator():\n",
    "    for i in range(50):\n",
    "        yield i\n",
    "\n",
    "for _ in tqdm(my_generator(),total=50):\n",
    "    sleep(0.01)"
   ]
  },
  {
   "cell_type": "code",
   "execution_count": null,
   "metadata": {},
   "outputs": [],
   "source": [
    "pbar = tqdm(total=100) #手动更新进度条，可以自己定义进度条，告诉自己到了哪些部分\n",
    "pbar.update(10)\n",
    "sleep(2)\n",
    "pbar.update(20)\n",
    "sleep(2)\n",
    "pbar.update(70)\n",
    "pbar.close()\n",
    "\n",
    "\n",
    "\n",
    "with tqdm(total=100) as pbar: #上下文管理器 可以不用手动建立并关闭tqdm对象\n",
    "    pbar.update(10)\n",
    "    sleep(2)\n",
    "    pbar.update(20)\n",
    "    sleep(2)\n",
    "    pbar.update(70)"
   ]
  },
  {
   "cell_type": "code",
   "execution_count": null,
   "metadata": {},
   "outputs": [],
   "source": [
    "#和pandas进行配合\n",
    "import pandas as  pd\n",
    "import seaborn as sns # type: ignore\n",
    "\n",
    "df = sns.load_dataset('iris')\n",
    "df.head()"
   ]
  },
  {
   "cell_type": "code",
   "execution_count": null,
   "metadata": {},
   "outputs": [],
   "source": [
    "df.petal_length.apply(lambda x: x*2)"
   ]
  },
  {
   "cell_type": "code",
   "execution_count": null,
   "metadata": {},
   "outputs": [],
   "source": [
    "tqdm.pandas(desc='装饰器') #类方法，装饰器的作用，将pandas的apply方法包装为另一个方法\n",
    "out = df.petal_length.progress_apply(lambda x :x*2)"
   ]
  }
 ],
 "metadata": {
  "kernelspec": {
   "display_name": "torch",
   "language": "python",
   "name": "python3"
  },
  "language_info": {
   "codemirror_mode": {
    "name": "ipython",
    "version": 3
   },
   "file_extension": ".py",
   "mimetype": "text/x-python",
   "name": "python",
   "nbconvert_exporter": "python",
   "pygments_lexer": "ipython3",
   "version": "3.10.13"
  }
 },
 "nbformat": 4,
 "nbformat_minor": 2
}
